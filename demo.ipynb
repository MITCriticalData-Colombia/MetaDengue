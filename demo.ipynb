{
 "cells": [
  {
   "cell_type": "markdown",
   "metadata": {},
   "source": [
    "# Data class example"
   ]
  },
  {
   "cell_type": "code",
   "execution_count": null,
   "metadata": {},
   "outputs": [],
   "source": [
    "import numpy as np\n",
    "from skimage import io\n",
    "import json\n",
    "import matplotlib.pyplot as plt\n",
    "import sklearn.metrics as metrics\n",
    "from torch.utils.data import Dataset, DataLoader\n",
    "import torch\n",
    "import torch.nn.functional as F\n",
    "import torch.nn as nn\n",
    "import torch.optim as optim\n",
    "import torchvision.transforms as transforms\n",
    "import torchvision.models as models\n",
    "\n",
    "from torchvision.datasets.utils import download_file_from_google_drive\n",
    "from torchvision.datasets import ImageFolder\n",
    "from torch.utils.data import DataLoader,Dataset\n",
    "from PIL import Image\n",
    "import os\n",
    "torch.backends.cudnn.deterministic = True\n",
    "torch.backends.cudnn.benchmark = False\n",
    "from os import listdir\n",
    "from os.path import isfile, join\n",
    "output_feat = 2048\n",
    "\n",
    "device = torch.device('cuda' if torch.cuda.is_available() else 'cpu')"
   ]
  },
  {
   "cell_type": "markdown",
   "metadata": {},
   "source": [
    "### Utility functions"
   ]
  },
  {
   "cell_type": "code",
   "execution_count": null,
   "metadata": {},
   "outputs": [],
   "source": [
    "def get_filepaths(directory, format):\n",
    "    \"\"\"\n",
    "    This function will generate the file names in a directory \n",
    "    tree by walking the tree either top-down or bottom-up. For each \n",
    "    directory in the tree rooted at directory top (including top itself), \n",
    "    it yields a 3-tuple (dirpath, dirnames, filenames).\n",
    "    \"\"\"\n",
    "    file_paths = []  # List which will store all of the full filepaths.\n",
    "\n",
    "    # Walk the tree.\n",
    "    for root, directories, files in os.walk(directory):\n",
    "        for filename in files:\n",
    "            if format in filename: \n",
    "            # Join the two strings in order to form the full filepath.\n",
    "                filepath = os.path.join(root, filename)\n",
    "                file_paths.append(filepath)  # Add it to the list.\n",
    "            else:\n",
    "                pass\n",
    "    return file_paths  # Self-explanatory."
   ]
  },
  {
   "cell_type": "markdown",
   "metadata": {},
   "source": [
    "### Dataloader demo"
   ]
  },
  {
   "cell_type": "code",
   "execution_count": 34,
   "metadata": {},
   "outputs": [
    {
     "name": "stdout",
     "output_type": "stream",
     "text": [
      "1560\n",
      "torch.Size([1, 744, 748, 12]) {'image_path': ['DATASET/images/23001/image_2016-01-03.tiff'], 'municipality_code': tensor([23001]), 'date': tensor([201601]), 'labels': {'cases': tensor([31]), 'binary_classification': tensor([1]), 'incidence_ratio': tensor([0]), 'multilabel': tensor([0])}, 'metadata': {'environmental_data': {'temperature': [tensor([30.7032], dtype=torch.float64)], 'precipitation': [tensor([0.1678], dtype=torch.float64)], 'elevation': tensor([36.], dtype=torch.float64)}, 'socioeconomic_data': {'Population': tensor([471724]), 'Age0-4(%)': tensor([7.7600], dtype=torch.float64), 'Age5-14(%)': tensor([26.3100], dtype=torch.float64), 'Age>30(%)': tensor([48.6900], dtype=torch.float64), 'AfrocolombianPopulation(%)': tensor([1.7000], dtype=torch.float64), 'IndianPopulation(%)': tensor([0.7100], dtype=torch.float64), 'PeoplewithDisabilities(%)': tensor([2.6900], dtype=torch.float64), 'Peoplewhocannotreadorwrite(%)': tensor([5.9300], dtype=torch.float64), 'Secondary/HigherEducation(%)': tensor([59.9300], dtype=torch.float64), 'Employedpopulation(%)': tensor([36.4600], dtype=torch.float64), 'Unemployedpopulation(%)': tensor([4.6100], dtype=torch.float64), 'Peopledoinghousework(%)': tensor([17.0200], dtype=torch.float64), 'Men(%)': tensor([48.5100], dtype=torch.float64), 'Women(%)': tensor([51.4900], dtype=torch.float64), 'Householdswithoutwateraccess(%)': tensor([10.0700], dtype=torch.float64), 'Householdswithoutinternetaccess(%)': tensor([52.8400], dtype=torch.float64), 'Buildingstratification1(%)': tensor([60.2975], dtype=torch.float64), 'Buildingstratification2(%)': tensor([14.4266], dtype=torch.float64), 'Buildingstratification3(%)': tensor([6.6937], dtype=torch.float64), 'Buildingstratification4(%)': tensor([2.3756], dtype=torch.float64), 'Buildingstratification5(%)': tensor([0.8777], dtype=torch.float64), 'Buildingstratification6(%)': tensor([0.7190], dtype=torch.float64), 'NumberofhospitalsperKm2': tensor([0.0876], dtype=torch.float64), 'NumberofhousesperKm2': tensor([37.0519], dtype=torch.float64)}}}\n"
     ]
    }
   ],
   "source": [
    "train_transform = transforms.Compose([\n",
    "      transforms.ToTensor()               \n",
    "])\n",
    "\n",
    "valid_transform = transforms.Compose([\n",
    "    transforms.ToTensor(),           \n",
    "])\n",
    "\n",
    "class DengueSet_loader(Dataset):\n",
    "    def __init__(self, root, transform = None):\n",
    "        self.root = root\n",
    "        self.imgs = list(sorted(get_filepaths(root, \".tiff\")))\n",
    "        self.targets = list(sorted(get_filepaths(root, \".json\")))\n",
    "    def __len__(self):\n",
    "        return len(self.imgs)\n",
    "    def __getitem__(self, ind):\n",
    "        image_path = self.imgs[ind]\n",
    "        target_path = self.targets[ind]\n",
    "        # Read data\n",
    "        image = io.imread(image_path)\n",
    "        metadata = json.load(open(target_path))\n",
    "        \n",
    "        #if self.transform:\n",
    "        #  image = self.transform(image)\n",
    "        \n",
    "        return image, metadata\n",
    "\n",
    "  \n",
    "root = \"./DATASET/\"\n",
    "train_set = DengueSet_loader(root, train_transform)\n",
    "loader = DataLoader(train_set, batch_size=1)\n",
    "print(len(loader))\n",
    "cont = 0\n",
    "for x, y in loader:\n",
    "        print(x.shape,y)\n",
    "        cont+=1\n",
    "        if cont==1:\n",
    "                break\n",
    "        "
   ]
  },
  {
   "cell_type": "code",
   "execution_count": 36,
   "metadata": {},
   "outputs": [
    {
     "data": {
      "text/plain": [
       "{'image_path': 'DATASET/images/23001/image_2018-12-02.tiff',\n",
       " 'municipality_code': 23001,\n",
       " 'date': 201849,\n",
       " 'labels': {'cases': 77,\n",
       "  'binary_classification': 1,\n",
       "  'incidence_ratio': 0,\n",
       "  'multilabel': 1},\n",
       " 'metadata': {'environmental_data': {'temperature': [29.652235658413748],\n",
       "   'precipitation': [0.0],\n",
       "   'elevation': 36.0},\n",
       "  'socioeconomic_data': {'Population': 490935,\n",
       "   'Age0-4(%)': 7.76,\n",
       "   'Age5-14(%)': 26.31,\n",
       "   'Age>30(%)': 48.69,\n",
       "   'AfrocolombianPopulation(%)': 1.7,\n",
       "   'IndianPopulation(%)': 0.71,\n",
       "   'PeoplewithDisabilities(%)': 2.69,\n",
       "   'Peoplewhocannotreadorwrite(%)': 5.93,\n",
       "   'Secondary/HigherEducation(%)': 59.93,\n",
       "   'Employedpopulation(%)': 36.46,\n",
       "   'Unemployedpopulation(%)': 4.61,\n",
       "   'Peopledoinghousework(%)': 17.02,\n",
       "   'Men(%)': 48.51,\n",
       "   'Women(%)': 51.49,\n",
       "   'Householdswithoutwateraccess(%)': 10.07,\n",
       "   'Householdswithoutinternetaccess(%)': 52.84,\n",
       "   'Buildingstratification1(%)': 60.2975,\n",
       "   'Buildingstratification2(%)': 14.4266,\n",
       "   'Buildingstratification3(%)': 6.6937,\n",
       "   'Buildingstratification4(%)': 2.3756,\n",
       "   'Buildingstratification5(%)': 0.8777,\n",
       "   'Buildingstratification6(%)': 0.7190000000000001,\n",
       "   'NumberofhospitalsperKm2': 0.087552,\n",
       "   'NumberofhousesperKm2': 37.051894}}}"
      ]
     },
     "execution_count": 36,
     "metadata": {},
     "output_type": "execute_result"
    }
   ],
   "source": [
    "target_path = \"/home/sebasmos/Desktop/DengueSet/DATASET/annotations/23001/image_2018-12-02.json\"\n",
    "metadata = json.load(open(target_path))\n",
    "metadata"
   ]
  }
 ],
 "metadata": {
  "kernelspec": {
   "display_name": "Python 3.9.7 ('sebasmos')",
   "language": "python",
   "name": "python3"
  },
  "language_info": {
   "codemirror_mode": {
    "name": "ipython",
    "version": 3
   },
   "file_extension": ".py",
   "mimetype": "text/x-python",
   "name": "python",
   "nbconvert_exporter": "python",
   "pygments_lexer": "ipython3",
   "version": "3.9.7"
  },
  "orig_nbformat": 4,
  "vscode": {
   "interpreter": {
    "hash": "ad1edc83c8a3ba973d0a5ed89f8d56b42dac8fe366158fcfa7dfa82a998d469f"
   }
  }
 },
 "nbformat": 4,
 "nbformat_minor": 2
}
