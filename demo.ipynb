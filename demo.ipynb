{
 "cells": [
  {
   "cell_type": "markdown",
   "metadata": {},
   "source": [
    "# Data class example"
   ]
  },
  {
   "cell_type": "code",
   "execution_count": 48,
   "metadata": {},
   "outputs": [],
   "source": [
    "import numpy as np\n",
    "from skimage import io\n",
    "import json\n",
    "import matplotlib.pyplot as plt\n",
    "import sklearn.metrics as metrics\n",
    "from torch.utils.data import Dataset, DataLoader\n",
    "import torch\n",
    "import torch.nn.functional as F\n",
    "import torch.nn as nn\n",
    "import torch.optim as optim\n",
    "import torchvision.transforms as transforms\n",
    "import torchvision.models as models\n",
    "\n",
    "from torchvision.datasets.utils import download_file_from_google_drive\n",
    "from torchvision.datasets import ImageFolder\n",
    "from torch.utils.data import DataLoader,Dataset\n",
    "from PIL import Image\n",
    "import os\n",
    "torch.backends.cudnn.deterministic = True\n",
    "torch.backends.cudnn.benchmark = False\n",
    "from os import listdir\n",
    "from os.path import isfile, join\n",
    "import pandas as pd\n",
    "\n",
    "output_feat = 2048\n",
    "\n",
    "device = torch.device('cuda' if torch.cuda.is_available() else 'cpu')"
   ]
  },
  {
   "cell_type": "markdown",
   "metadata": {},
   "source": [
    "### Utility functions"
   ]
  },
  {
   "cell_type": "code",
   "execution_count": 14,
   "metadata": {},
   "outputs": [],
   "source": [
    "def get_filepaths(directory, format):\n",
    "    \"\"\"\n",
    "    This function will generate the file names in a directory \n",
    "    tree by walking the tree either top-down or bottom-up. For each \n",
    "    directory in the tree rooted at directory top (including top itself), \n",
    "    it yields a 3-tuple (dirpath, dirnames, filenames).\n",
    "    \"\"\"\n",
    "    file_paths = []  # List which will store all of the full filepaths.\n",
    "\n",
    "    # Walk the tree.\n",
    "    for root, directories, files in os.walk(directory):\n",
    "        for filename in files:\n",
    "            if format in filename: \n",
    "            # Join the two strings in order to form the full filepath.\n",
    "                filepath = os.path.join(root, filename)\n",
    "                file_paths.append(filepath)  # Add it to the list.\n",
    "            else:\n",
    "                pass\n",
    "    return file_paths  # Self-explanatory."
   ]
  },
  {
   "cell_type": "markdown",
   "metadata": {},
   "source": [
    "### Dataloader demo"
   ]
  },
  {
   "cell_type": "code",
   "execution_count": 62,
   "metadata": {},
   "outputs": [
    {
     "name": "stdout",
     "output_type": "stream",
     "text": [
      "5\n",
      "torch.Size([1, 745, 748, 12]) {'image_path': ['DATASET/images/76001/image_2016-01-03.tiff'], 'municipality_code': tensor([76001]), 'date': tensor([201601]), 'labels': {'cases': tensor([408]), 'binary_classification': tensor([1]), 'incidence_ratio': tensor([0]), 'multilabel': tensor([0])}, 'metadata': {'environmental_data': {'temperature': [tensor([23.8408], dtype=torch.float64)], 'precipitation': [tensor([13.8939], dtype=torch.float64)], 'elevation': tensor([1075.], dtype=torch.float64)}, 'socioeconomic_data': {'Population': tensor([2208181]), 'Age0-4(%)': tensor([5.3700], dtype=torch.float64), 'Age5-14(%)': tensor([24.7300], dtype=torch.float64), 'Age>30(%)': tensor([57.5200], dtype=torch.float64), 'AfrocolombianPopulation(%)': tensor([14.4400], dtype=torch.float64), 'IndianPopulation(%)': tensor([0.5200], dtype=torch.float64), 'PeoplewithDisabilities(%)': tensor([9.6700], dtype=torch.float64), 'Peoplewhocannotreadorwrite(%)': tensor([3.0200], dtype=torch.float64), 'Secondary/HigherEducation(%)': tensor([68.5600], dtype=torch.float64), 'Employedpopulation(%)': tensor([44.3300], dtype=torch.float64), 'Unemployedpopulation(%)': tensor([5.2200], dtype=torch.float64), 'Peopledoinghousework(%)': tensor([12.9300], dtype=torch.float64), 'Men(%)': tensor([46.7900], dtype=torch.float64), 'Women(%)': tensor([53.2100], dtype=torch.float64), 'Householdswithoutwateraccess(%)': tensor([0.8800], dtype=torch.float64), 'Householdswithoutinternetaccess(%)': tensor([23.9900], dtype=torch.float64), 'Buildingstratification1(%)': tensor([17.3906], dtype=torch.float64), 'Buildingstratification2(%)': tensor([23.1654], dtype=torch.float64), 'Buildingstratification3(%)': tensor([27.3170], dtype=torch.float64), 'Buildingstratification4(%)': tensor([9.2994], dtype=torch.float64), 'Buildingstratification5(%)': tensor([6.5725], dtype=torch.float64), 'Buildingstratification6(%)': tensor([2.3033], dtype=torch.float64), 'NumberofhospitalsperKm2': tensor([1.0534], dtype=torch.float64), 'NumberofhousesperKm2': tensor([1064.9181], dtype=torch.float64)}}}\n",
      "torch.Size([1, 745, 748, 12]) {'image_path': ['DATASET/images/76001/image_2016-01-10.tiff'], 'municipality_code': tensor([76001]), 'date': tensor([201602]), 'labels': {'cases': tensor([483]), 'binary_classification': tensor([1]), 'incidence_ratio': tensor([0]), 'multilabel': tensor([1])}, 'metadata': {'environmental_data': {'temperature': [tensor([24.5524], dtype=torch.float64)], 'precipitation': [tensor([1.6946], dtype=torch.float64)], 'elevation': tensor([1075.], dtype=torch.float64)}, 'socioeconomic_data': {'Population': tensor([2208181]), 'Age0-4(%)': tensor([5.3700], dtype=torch.float64), 'Age5-14(%)': tensor([24.7300], dtype=torch.float64), 'Age>30(%)': tensor([57.5200], dtype=torch.float64), 'AfrocolombianPopulation(%)': tensor([14.4400], dtype=torch.float64), 'IndianPopulation(%)': tensor([0.5200], dtype=torch.float64), 'PeoplewithDisabilities(%)': tensor([9.6700], dtype=torch.float64), 'Peoplewhocannotreadorwrite(%)': tensor([3.0200], dtype=torch.float64), 'Secondary/HigherEducation(%)': tensor([68.5600], dtype=torch.float64), 'Employedpopulation(%)': tensor([44.3300], dtype=torch.float64), 'Unemployedpopulation(%)': tensor([5.2200], dtype=torch.float64), 'Peopledoinghousework(%)': tensor([12.9300], dtype=torch.float64), 'Men(%)': tensor([46.7900], dtype=torch.float64), 'Women(%)': tensor([53.2100], dtype=torch.float64), 'Householdswithoutwateraccess(%)': tensor([0.8800], dtype=torch.float64), 'Householdswithoutinternetaccess(%)': tensor([23.9900], dtype=torch.float64), 'Buildingstratification1(%)': tensor([17.3906], dtype=torch.float64), 'Buildingstratification2(%)': tensor([23.1654], dtype=torch.float64), 'Buildingstratification3(%)': tensor([27.3170], dtype=torch.float64), 'Buildingstratification4(%)': tensor([9.2994], dtype=torch.float64), 'Buildingstratification5(%)': tensor([6.5725], dtype=torch.float64), 'Buildingstratification6(%)': tensor([2.3033], dtype=torch.float64), 'NumberofhospitalsperKm2': tensor([1.0534], dtype=torch.float64), 'NumberofhousesperKm2': tensor([1064.9181], dtype=torch.float64)}}}\n",
      "torch.Size([1, 745, 748, 12]) {'image_path': ['DATASET/images/76001/image_2016-01-17.tiff'], 'municipality_code': tensor([76001]), 'date': tensor([201603]), 'labels': {'cases': tensor([539]), 'binary_classification': tensor([1]), 'incidence_ratio': tensor([0]), 'multilabel': tensor([1])}, 'metadata': {'environmental_data': {'temperature': [tensor([22.4526], dtype=torch.float64)], 'precipitation': [tensor([3.3086], dtype=torch.float64)], 'elevation': tensor([1075.], dtype=torch.float64)}, 'socioeconomic_data': {'Population': tensor([2208181]), 'Age0-4(%)': tensor([5.3700], dtype=torch.float64), 'Age5-14(%)': tensor([24.7300], dtype=torch.float64), 'Age>30(%)': tensor([57.5200], dtype=torch.float64), 'AfrocolombianPopulation(%)': tensor([14.4400], dtype=torch.float64), 'IndianPopulation(%)': tensor([0.5200], dtype=torch.float64), 'PeoplewithDisabilities(%)': tensor([9.6700], dtype=torch.float64), 'Peoplewhocannotreadorwrite(%)': tensor([3.0200], dtype=torch.float64), 'Secondary/HigherEducation(%)': tensor([68.5600], dtype=torch.float64), 'Employedpopulation(%)': tensor([44.3300], dtype=torch.float64), 'Unemployedpopulation(%)': tensor([5.2200], dtype=torch.float64), 'Peopledoinghousework(%)': tensor([12.9300], dtype=torch.float64), 'Men(%)': tensor([46.7900], dtype=torch.float64), 'Women(%)': tensor([53.2100], dtype=torch.float64), 'Householdswithoutwateraccess(%)': tensor([0.8800], dtype=torch.float64), 'Householdswithoutinternetaccess(%)': tensor([23.9900], dtype=torch.float64), 'Buildingstratification1(%)': tensor([17.3906], dtype=torch.float64), 'Buildingstratification2(%)': tensor([23.1654], dtype=torch.float64), 'Buildingstratification3(%)': tensor([27.3170], dtype=torch.float64), 'Buildingstratification4(%)': tensor([9.2994], dtype=torch.float64), 'Buildingstratification5(%)': tensor([6.5725], dtype=torch.float64), 'Buildingstratification6(%)': tensor([2.3033], dtype=torch.float64), 'NumberofhospitalsperKm2': tensor([1.0534], dtype=torch.float64), 'NumberofhousesperKm2': tensor([1064.9181], dtype=torch.float64)}}}\n",
      "torch.Size([1, 745, 748, 12]) {'image_path': ['DATASET/images/76001/image_2016-01-24.tiff'], 'municipality_code': tensor([76001]), 'date': tensor([201604]), 'labels': {'cases': tensor([629]), 'binary_classification': tensor([1]), 'incidence_ratio': tensor([0]), 'multilabel': tensor([1])}, 'metadata': {'environmental_data': {'temperature': [tensor([28.2608], dtype=torch.float64)], 'precipitation': [tensor([0.], dtype=torch.float64)], 'elevation': tensor([1075.], dtype=torch.float64)}, 'socioeconomic_data': {'Population': tensor([2208181]), 'Age0-4(%)': tensor([5.3700], dtype=torch.float64), 'Age5-14(%)': tensor([24.7300], dtype=torch.float64), 'Age>30(%)': tensor([57.5200], dtype=torch.float64), 'AfrocolombianPopulation(%)': tensor([14.4400], dtype=torch.float64), 'IndianPopulation(%)': tensor([0.5200], dtype=torch.float64), 'PeoplewithDisabilities(%)': tensor([9.6700], dtype=torch.float64), 'Peoplewhocannotreadorwrite(%)': tensor([3.0200], dtype=torch.float64), 'Secondary/HigherEducation(%)': tensor([68.5600], dtype=torch.float64), 'Employedpopulation(%)': tensor([44.3300], dtype=torch.float64), 'Unemployedpopulation(%)': tensor([5.2200], dtype=torch.float64), 'Peopledoinghousework(%)': tensor([12.9300], dtype=torch.float64), 'Men(%)': tensor([46.7900], dtype=torch.float64), 'Women(%)': tensor([53.2100], dtype=torch.float64), 'Householdswithoutwateraccess(%)': tensor([0.8800], dtype=torch.float64), 'Householdswithoutinternetaccess(%)': tensor([23.9900], dtype=torch.float64), 'Buildingstratification1(%)': tensor([17.3906], dtype=torch.float64), 'Buildingstratification2(%)': tensor([23.1654], dtype=torch.float64), 'Buildingstratification3(%)': tensor([27.3170], dtype=torch.float64), 'Buildingstratification4(%)': tensor([9.2994], dtype=torch.float64), 'Buildingstratification5(%)': tensor([6.5725], dtype=torch.float64), 'Buildingstratification6(%)': tensor([2.3033], dtype=torch.float64), 'NumberofhospitalsperKm2': tensor([1.0534], dtype=torch.float64), 'NumberofhousesperKm2': tensor([1064.9181], dtype=torch.float64)}}}\n",
      "torch.Size([1, 745, 748, 12]) {'image_path': ['DATASET/images/76001/image_2016-01-31.tiff'], 'municipality_code': tensor([76001]), 'date': tensor([201605]), 'labels': {'cases': tensor([745]), 'binary_classification': tensor([1]), 'incidence_ratio': tensor([0]), 'multilabel': tensor([1])}, 'metadata': {'environmental_data': {'temperature': [tensor([26.8909], dtype=torch.float64)], 'precipitation': [tensor([0.6262], dtype=torch.float64)], 'elevation': tensor([1075.], dtype=torch.float64)}, 'socioeconomic_data': {'Population': tensor([2208181]), 'Age0-4(%)': tensor([5.3700], dtype=torch.float64), 'Age5-14(%)': tensor([24.7300], dtype=torch.float64), 'Age>30(%)': tensor([57.5200], dtype=torch.float64), 'AfrocolombianPopulation(%)': tensor([14.4400], dtype=torch.float64), 'IndianPopulation(%)': tensor([0.5200], dtype=torch.float64), 'PeoplewithDisabilities(%)': tensor([9.6700], dtype=torch.float64), 'Peoplewhocannotreadorwrite(%)': tensor([3.0200], dtype=torch.float64), 'Secondary/HigherEducation(%)': tensor([68.5600], dtype=torch.float64), 'Employedpopulation(%)': tensor([44.3300], dtype=torch.float64), 'Unemployedpopulation(%)': tensor([5.2200], dtype=torch.float64), 'Peopledoinghousework(%)': tensor([12.9300], dtype=torch.float64), 'Men(%)': tensor([46.7900], dtype=torch.float64), 'Women(%)': tensor([53.2100], dtype=torch.float64), 'Householdswithoutwateraccess(%)': tensor([0.8800], dtype=torch.float64), 'Householdswithoutinternetaccess(%)': tensor([23.9900], dtype=torch.float64), 'Buildingstratification1(%)': tensor([17.3906], dtype=torch.float64), 'Buildingstratification2(%)': tensor([23.1654], dtype=torch.float64), 'Buildingstratification3(%)': tensor([27.3170], dtype=torch.float64), 'Buildingstratification4(%)': tensor([9.2994], dtype=torch.float64), 'Buildingstratification5(%)': tensor([6.5725], dtype=torch.float64), 'Buildingstratification6(%)': tensor([2.3033], dtype=torch.float64), 'NumberofhospitalsperKm2': tensor([1.0534], dtype=torch.float64), 'NumberofhousesperKm2': tensor([1064.9181], dtype=torch.float64)}}}\n"
     ]
    }
   ],
   "source": [
    "train_transform = transforms.Compose([\n",
    "      transforms.ToTensor()               \n",
    "])\n",
    "\n",
    "valid_transform = transforms.Compose([\n",
    "    transforms.ToTensor(),           \n",
    "])\n",
    "\n",
    "class DengueSet_loader(Dataset):\n",
    "    def __init__(self, root, transform = None):\n",
    "        self.root = root\n",
    "        self.imgs = list(sorted(get_filepaths(root, \".tiff\")))\n",
    "        self.targets = list(sorted(get_filepaths(root, \".json\")))\n",
    "    def __len__(self):\n",
    "        return len(self.imgs)\n",
    "    def __getitem__(self, ind):\n",
    "        image_path = self.imgs[ind]\n",
    "        target_path = self.targets[ind]\n",
    "        # Read data\n",
    "        image = io.imread(image_path)\n",
    "        metadata = json.load(open(target_path))\n",
    "        \n",
    "        \n",
    "        #if self.transform:\n",
    "        #  image = self.transform(image)\n",
    "        \n",
    "        return image, metadata# image_path,target_path\n",
    "  \n",
    "root = \"./DATASET/\"\n",
    "train_set = DengueSet_loader(root, train_transform)\n",
    "loader = DataLoader(train_set, batch_size=1)\n",
    "print(len(loader))\n",
    "cont = 0\n",
    "df = []\n",
    "for x, y in loader:\n",
    "        print(x.shape,y)\n",
    "        cont+=1\n",
    "        if cont==5:\n",
    "                break\n",
    "        "
   ]
  },
  {
   "cell_type": "code",
   "execution_count": 67,
   "metadata": {},
   "outputs": [],
   "source": [
    "df = []\n",
    "df = pd.DataFrame(y[\"labels\"])\n",
    "df[[\"temperature\", \"precipitation\", \"elevation\"]]=pd.DataFrame(y[\"metadata\"][\"environmental_data\"])\n",
    "df[['Population', 'Age0-4(%)', 'Age5-14(%)', 'Age>30(%)',\n",
    "            'AfrocolombianPopulation(%)', 'IndianPopulation(%)',\n",
    "            'PeoplewithDisabilities(%)', 'Peoplewhocannotreadorwrite(%)',\n",
    "            'Secondary/HigherEducation(%)', 'Employedpopulation(%)',\n",
    "            'Unemployedpopulation(%)', 'Peopledoinghousework(%)', 'Men(%)',\n",
    "            'Women(%)', 'Householdswithoutwateraccess(%)',\n",
    "            'Householdswithoutinternetaccess(%)', 'Buildingstratification1(%)',\n",
    "            'Buildingstratification2(%)', 'Buildingstratification3(%)',\n",
    "            'Buildingstratification4(%)', 'Buildingstratification5(%)',\n",
    "            'Buildingstratification6(%)', 'NumberofhospitalsperKm2',\n",
    "            'NumberofhousesperKm2']]= pd.DataFrame(y[\"metadata\"][\"socioeconomic_data\"])"
   ]
  },
  {
   "cell_type": "code",
   "execution_count": 68,
   "metadata": {},
   "outputs": [
    {
     "data": {
      "text/html": [
       "<div>\n",
       "<style scoped>\n",
       "    .dataframe tbody tr th:only-of-type {\n",
       "        vertical-align: middle;\n",
       "    }\n",
       "\n",
       "    .dataframe tbody tr th {\n",
       "        vertical-align: top;\n",
       "    }\n",
       "\n",
       "    .dataframe thead th {\n",
       "        text-align: right;\n",
       "    }\n",
       "</style>\n",
       "<table border=\"1\" class=\"dataframe\">\n",
       "  <thead>\n",
       "    <tr style=\"text-align: right;\">\n",
       "      <th></th>\n",
       "      <th>cases</th>\n",
       "      <th>binary_classification</th>\n",
       "      <th>incidence_ratio</th>\n",
       "      <th>multilabel</th>\n",
       "      <th>temperature</th>\n",
       "      <th>precipitation</th>\n",
       "      <th>elevation</th>\n",
       "      <th>Population</th>\n",
       "      <th>Age0-4(%)</th>\n",
       "      <th>Age5-14(%)</th>\n",
       "      <th>...</th>\n",
       "      <th>Householdswithoutwateraccess(%)</th>\n",
       "      <th>Householdswithoutinternetaccess(%)</th>\n",
       "      <th>Buildingstratification1(%)</th>\n",
       "      <th>Buildingstratification2(%)</th>\n",
       "      <th>Buildingstratification3(%)</th>\n",
       "      <th>Buildingstratification4(%)</th>\n",
       "      <th>Buildingstratification5(%)</th>\n",
       "      <th>Buildingstratification6(%)</th>\n",
       "      <th>NumberofhospitalsperKm2</th>\n",
       "      <th>NumberofhousesperKm2</th>\n",
       "    </tr>\n",
       "  </thead>\n",
       "  <tbody>\n",
       "    <tr>\n",
       "      <th>0</th>\n",
       "      <td>745</td>\n",
       "      <td>1</td>\n",
       "      <td>0</td>\n",
       "      <td>1</td>\n",
       "      <td>[tensor(26.8909, dtype=torch.float64)]</td>\n",
       "      <td>[tensor(0.6262, dtype=torch.float64)]</td>\n",
       "      <td>1075.0</td>\n",
       "      <td>2208181</td>\n",
       "      <td>5.37</td>\n",
       "      <td>24.73</td>\n",
       "      <td>...</td>\n",
       "      <td>0.88</td>\n",
       "      <td>23.99</td>\n",
       "      <td>17.3906</td>\n",
       "      <td>23.1654</td>\n",
       "      <td>27.317</td>\n",
       "      <td>9.2994</td>\n",
       "      <td>6.5725</td>\n",
       "      <td>2.3033</td>\n",
       "      <td>1.053381</td>\n",
       "      <td>1064.918149</td>\n",
       "    </tr>\n",
       "  </tbody>\n",
       "</table>\n",
       "<p>1 rows × 31 columns</p>\n",
       "</div>"
      ],
      "text/plain": [
       "   cases  binary_classification  incidence_ratio  multilabel  \\\n",
       "0    745                      1                0           1   \n",
       "\n",
       "                              temperature  \\\n",
       "0  [tensor(26.8909, dtype=torch.float64)]   \n",
       "\n",
       "                           precipitation  elevation  Population  Age0-4(%)  \\\n",
       "0  [tensor(0.6262, dtype=torch.float64)]     1075.0     2208181       5.37   \n",
       "\n",
       "   Age5-14(%)  ...  Householdswithoutwateraccess(%)  \\\n",
       "0       24.73  ...                             0.88   \n",
       "\n",
       "   Householdswithoutinternetaccess(%)  Buildingstratification1(%)  \\\n",
       "0                               23.99                     17.3906   \n",
       "\n",
       "   Buildingstratification2(%)  Buildingstratification3(%)  \\\n",
       "0                     23.1654                      27.317   \n",
       "\n",
       "   Buildingstratification4(%)  Buildingstratification5(%)  \\\n",
       "0                      9.2994                      6.5725   \n",
       "\n",
       "   Buildingstratification6(%)  NumberofhospitalsperKm2  NumberofhousesperKm2  \n",
       "0                      2.3033                 1.053381           1064.918149  \n",
       "\n",
       "[1 rows x 31 columns]"
      ]
     },
     "execution_count": 68,
     "metadata": {},
     "output_type": "execute_result"
    }
   ],
   "source": [
    "df"
   ]
  }
 ],
 "metadata": {
  "kernelspec": {
   "display_name": "Python 3.9.7 ('sebasmos')",
   "language": "python",
   "name": "python3"
  },
  "language_info": {
   "codemirror_mode": {
    "name": "ipython",
    "version": 3
   },
   "file_extension": ".py",
   "mimetype": "text/x-python",
   "name": "python",
   "nbconvert_exporter": "python",
   "pygments_lexer": "ipython3",
   "version": "3.9.7"
  },
  "orig_nbformat": 4,
  "vscode": {
   "interpreter": {
    "hash": "ad1edc83c8a3ba973d0a5ed89f8d56b42dac8fe366158fcfa7dfa82a998d469f"
   }
  }
 },
 "nbformat": 4,
 "nbformat_minor": 2
}
